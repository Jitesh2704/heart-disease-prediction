{
 "cells": [
  {
   "cell_type": "code",
   "execution_count": null,
   "metadata": {
    "id": "h1m49xyrhRV9"
   },
   "outputs": [],
   "source": [
    "import pandas as pd\n",
    "import numpy as np\n",
    "from keras.models import Sequential\n",
    "from keras.layers import Dense\n",
    "from keras.layers import Input\n",
    "from keras.utils import np_utils"
   ]
  },
  {
   "cell_type": "code",
   "execution_count": null,
   "metadata": {
    "id": "jsHYFbyliK08"
   },
   "outputs": [],
   "source": [
    "dataset = pd.read_csv('heart.csv')"
   ]
  },
  {
   "cell_type": "code",
   "execution_count": null,
   "metadata": {
    "colab": {
     "base_uri": "https://localhost:8080/",
     "height": 206
    },
    "id": "GrZ5xLmhiScY",
    "outputId": "ee11e28c-8ee3-424d-e026-0f9e3843b64c"
   },
   "outputs": [
    {
     "data": {
      "text/html": [
       "\n",
       "  <div id=\"df-0cf4013a-243f-405b-9b33-5da87065ce76\">\n",
       "    <div class=\"colab-df-container\">\n",
       "      <div>\n",
       "<style scoped>\n",
       "    .dataframe tbody tr th:only-of-type {\n",
       "        vertical-align: middle;\n",
       "    }\n",
       "\n",
       "    .dataframe tbody tr th {\n",
       "        vertical-align: top;\n",
       "    }\n",
       "\n",
       "    .dataframe thead th {\n",
       "        text-align: right;\n",
       "    }\n",
       "</style>\n",
       "<table border=\"1\" class=\"dataframe\">\n",
       "  <thead>\n",
       "    <tr style=\"text-align: right;\">\n",
       "      <th></th>\n",
       "      <th>age</th>\n",
       "      <th>sex</th>\n",
       "      <th>cp</th>\n",
       "      <th>trestbps</th>\n",
       "      <th>chol</th>\n",
       "      <th>fbs</th>\n",
       "      <th>restecg</th>\n",
       "      <th>thalach</th>\n",
       "      <th>exang</th>\n",
       "      <th>oldpeak</th>\n",
       "      <th>slope</th>\n",
       "      <th>ca</th>\n",
       "      <th>thal</th>\n",
       "      <th>target</th>\n",
       "    </tr>\n",
       "  </thead>\n",
       "  <tbody>\n",
       "    <tr>\n",
       "      <th>0</th>\n",
       "      <td>63</td>\n",
       "      <td>1</td>\n",
       "      <td>3</td>\n",
       "      <td>145</td>\n",
       "      <td>233</td>\n",
       "      <td>1</td>\n",
       "      <td>0</td>\n",
       "      <td>150</td>\n",
       "      <td>0</td>\n",
       "      <td>2.3</td>\n",
       "      <td>0</td>\n",
       "      <td>0</td>\n",
       "      <td>1</td>\n",
       "      <td>1</td>\n",
       "    </tr>\n",
       "    <tr>\n",
       "      <th>1</th>\n",
       "      <td>37</td>\n",
       "      <td>1</td>\n",
       "      <td>2</td>\n",
       "      <td>130</td>\n",
       "      <td>250</td>\n",
       "      <td>0</td>\n",
       "      <td>1</td>\n",
       "      <td>187</td>\n",
       "      <td>0</td>\n",
       "      <td>3.5</td>\n",
       "      <td>0</td>\n",
       "      <td>0</td>\n",
       "      <td>2</td>\n",
       "      <td>1</td>\n",
       "    </tr>\n",
       "    <tr>\n",
       "      <th>2</th>\n",
       "      <td>41</td>\n",
       "      <td>0</td>\n",
       "      <td>1</td>\n",
       "      <td>130</td>\n",
       "      <td>204</td>\n",
       "      <td>0</td>\n",
       "      <td>0</td>\n",
       "      <td>172</td>\n",
       "      <td>0</td>\n",
       "      <td>1.4</td>\n",
       "      <td>2</td>\n",
       "      <td>0</td>\n",
       "      <td>2</td>\n",
       "      <td>1</td>\n",
       "    </tr>\n",
       "    <tr>\n",
       "      <th>3</th>\n",
       "      <td>56</td>\n",
       "      <td>1</td>\n",
       "      <td>1</td>\n",
       "      <td>120</td>\n",
       "      <td>236</td>\n",
       "      <td>0</td>\n",
       "      <td>1</td>\n",
       "      <td>178</td>\n",
       "      <td>0</td>\n",
       "      <td>0.8</td>\n",
       "      <td>2</td>\n",
       "      <td>0</td>\n",
       "      <td>2</td>\n",
       "      <td>1</td>\n",
       "    </tr>\n",
       "    <tr>\n",
       "      <th>4</th>\n",
       "      <td>57</td>\n",
       "      <td>0</td>\n",
       "      <td>0</td>\n",
       "      <td>120</td>\n",
       "      <td>354</td>\n",
       "      <td>0</td>\n",
       "      <td>1</td>\n",
       "      <td>163</td>\n",
       "      <td>1</td>\n",
       "      <td>0.6</td>\n",
       "      <td>2</td>\n",
       "      <td>0</td>\n",
       "      <td>2</td>\n",
       "      <td>1</td>\n",
       "    </tr>\n",
       "  </tbody>\n",
       "</table>\n",
       "</div>\n",
       "      <button class=\"colab-df-convert\" onclick=\"convertToInteractive('df-0cf4013a-243f-405b-9b33-5da87065ce76')\"\n",
       "              title=\"Convert this dataframe to an interactive table.\"\n",
       "              style=\"display:none;\">\n",
       "        \n",
       "  <svg xmlns=\"http://www.w3.org/2000/svg\" height=\"24px\"viewBox=\"0 0 24 24\"\n",
       "       width=\"24px\">\n",
       "    <path d=\"M0 0h24v24H0V0z\" fill=\"none\"/>\n",
       "    <path d=\"M18.56 5.44l.94 2.06.94-2.06 2.06-.94-2.06-.94-.94-2.06-.94 2.06-2.06.94zm-11 1L8.5 8.5l.94-2.06 2.06-.94-2.06-.94L8.5 2.5l-.94 2.06-2.06.94zm10 10l.94 2.06.94-2.06 2.06-.94-2.06-.94-.94-2.06-.94 2.06-2.06.94z\"/><path d=\"M17.41 7.96l-1.37-1.37c-.4-.4-.92-.59-1.43-.59-.52 0-1.04.2-1.43.59L10.3 9.45l-7.72 7.72c-.78.78-.78 2.05 0 2.83L4 21.41c.39.39.9.59 1.41.59.51 0 1.02-.2 1.41-.59l7.78-7.78 2.81-2.81c.8-.78.8-2.07 0-2.86zM5.41 20L4 18.59l7.72-7.72 1.47 1.35L5.41 20z\"/>\n",
       "  </svg>\n",
       "      </button>\n",
       "      \n",
       "  <style>\n",
       "    .colab-df-container {\n",
       "      display:flex;\n",
       "      flex-wrap:wrap;\n",
       "      gap: 12px;\n",
       "    }\n",
       "\n",
       "    .colab-df-convert {\n",
       "      background-color: #E8F0FE;\n",
       "      border: none;\n",
       "      border-radius: 50%;\n",
       "      cursor: pointer;\n",
       "      display: none;\n",
       "      fill: #1967D2;\n",
       "      height: 32px;\n",
       "      padding: 0 0 0 0;\n",
       "      width: 32px;\n",
       "    }\n",
       "\n",
       "    .colab-df-convert:hover {\n",
       "      background-color: #E2EBFA;\n",
       "      box-shadow: 0px 1px 2px rgba(60, 64, 67, 0.3), 0px 1px 3px 1px rgba(60, 64, 67, 0.15);\n",
       "      fill: #174EA6;\n",
       "    }\n",
       "\n",
       "    [theme=dark] .colab-df-convert {\n",
       "      background-color: #3B4455;\n",
       "      fill: #D2E3FC;\n",
       "    }\n",
       "\n",
       "    [theme=dark] .colab-df-convert:hover {\n",
       "      background-color: #434B5C;\n",
       "      box-shadow: 0px 1px 3px 1px rgba(0, 0, 0, 0.15);\n",
       "      filter: drop-shadow(0px 1px 2px rgba(0, 0, 0, 0.3));\n",
       "      fill: #FFFFFF;\n",
       "    }\n",
       "  </style>\n",
       "\n",
       "      <script>\n",
       "        const buttonEl =\n",
       "          document.querySelector('#df-0cf4013a-243f-405b-9b33-5da87065ce76 button.colab-df-convert');\n",
       "        buttonEl.style.display =\n",
       "          google.colab.kernel.accessAllowed ? 'block' : 'none';\n",
       "\n",
       "        async function convertToInteractive(key) {\n",
       "          const element = document.querySelector('#df-0cf4013a-243f-405b-9b33-5da87065ce76');\n",
       "          const dataTable =\n",
       "            await google.colab.kernel.invokeFunction('convertToInteractive',\n",
       "                                                     [key], {});\n",
       "          if (!dataTable) return;\n",
       "\n",
       "          const docLinkHtml = 'Like what you see? Visit the ' +\n",
       "            '<a target=\"_blank\" href=https://colab.research.google.com/notebooks/data_table.ipynb>data table notebook</a>'\n",
       "            + ' to learn more about interactive tables.';\n",
       "          element.innerHTML = '';\n",
       "          dataTable['output_type'] = 'display_data';\n",
       "          await google.colab.output.renderOutput(dataTable, element);\n",
       "          const docLink = document.createElement('div');\n",
       "          docLink.innerHTML = docLinkHtml;\n",
       "          element.appendChild(docLink);\n",
       "        }\n",
       "      </script>\n",
       "    </div>\n",
       "  </div>\n",
       "  "
      ],
      "text/plain": [
       "   age  sex  cp  trestbps  chol  fbs  restecg  thalach  exang  oldpeak  slope  \\\n",
       "0   63    1   3       145   233    1        0      150      0      2.3      0   \n",
       "1   37    1   2       130   250    0        1      187      0      3.5      0   \n",
       "2   41    0   1       130   204    0        0      172      0      1.4      2   \n",
       "3   56    1   1       120   236    0        1      178      0      0.8      2   \n",
       "4   57    0   0       120   354    0        1      163      1      0.6      2   \n",
       "\n",
       "   ca  thal  target  \n",
       "0   0     1       1  \n",
       "1   0     2       1  \n",
       "2   0     2       1  \n",
       "3   0     2       1  \n",
       "4   0     2       1  "
      ]
     },
     "execution_count": 3,
     "metadata": {},
     "output_type": "execute_result"
    }
   ],
   "source": [
    "dataset.head()"
   ]
  },
  {
   "cell_type": "code",
   "execution_count": null,
   "metadata": {
    "id": "bALe9GKPiWfZ"
   },
   "outputs": [],
   "source": [
    "X = dataset.iloc[:, 3:-1].values\n",
    "Y = dataset.iloc[:, -1].values"
   ]
  },
  {
   "cell_type": "code",
   "execution_count": null,
   "metadata": {
    "id": "pZ42vD-Mif-S"
   },
   "outputs": [],
   "source": [
    "from sklearn.preprocessing import LabelEncoder\n",
    "le = LabelEncoder()\n",
    "X[:, 2] = le.fit_transform(X[:, 2])"
   ]
  },
  {
   "cell_type": "code",
   "execution_count": null,
   "metadata": {
    "colab": {
     "base_uri": "https://localhost:8080/"
    },
    "id": "5I7RPn-6ij7a",
    "outputId": "91f150c9-1d51-4fd8-f5e4-6121801354b3"
   },
   "outputs": [
    {
     "data": {
      "text/plain": [
       "((272, 10), (272,), (31, 10), (31,))"
      ]
     },
     "execution_count": 45,
     "metadata": {},
     "output_type": "execute_result"
    }
   ],
   "source": [
    "from sklearn.model_selection import train_test_split\n",
    "X_train, X_test, Y_train, Y_test = train_test_split(X, Y, test_size = 0.1, random_state = 0)\n",
    "X_train.shape, Y_train.shape, X_test.shape, Y_test.shape"
   ]
  },
  {
   "cell_type": "code",
   "execution_count": null,
   "metadata": {
    "colab": {
     "base_uri": "https://localhost:8080/"
    },
    "id": "pebDAQnfio2Q",
    "outputId": "d6b79fbd-1b0f-424c-cab2-eeddaf915a9e"
   },
   "outputs": [
    {
     "data": {
      "text/plain": [
       "1"
      ]
     },
     "execution_count": 46,
     "metadata": {},
     "output_type": "execute_result"
    }
   ],
   "source": [
    "dataset.duplicated().sum()"
   ]
  },
  {
   "cell_type": "code",
   "execution_count": null,
   "metadata": {
    "colab": {
     "base_uri": "https://localhost:8080/",
     "height": 81
    },
    "id": "V21uMThRivmV",
    "outputId": "0983fdc4-3d7d-4d83-b95e-62cdc7d72b39"
   },
   "outputs": [
    {
     "data": {
      "text/html": [
       "\n",
       "  <div id=\"df-230613b6-52b8-4f81-8eee-3d370f29a22c\">\n",
       "    <div class=\"colab-df-container\">\n",
       "      <div>\n",
       "<style scoped>\n",
       "    .dataframe tbody tr th:only-of-type {\n",
       "        vertical-align: middle;\n",
       "    }\n",
       "\n",
       "    .dataframe tbody tr th {\n",
       "        vertical-align: top;\n",
       "    }\n",
       "\n",
       "    .dataframe thead th {\n",
       "        text-align: right;\n",
       "    }\n",
       "</style>\n",
       "<table border=\"1\" class=\"dataframe\">\n",
       "  <thead>\n",
       "    <tr style=\"text-align: right;\">\n",
       "      <th></th>\n",
       "      <th>age</th>\n",
       "      <th>sex</th>\n",
       "      <th>cp</th>\n",
       "      <th>trestbps</th>\n",
       "      <th>chol</th>\n",
       "      <th>fbs</th>\n",
       "      <th>restecg</th>\n",
       "      <th>thalach</th>\n",
       "      <th>exang</th>\n",
       "      <th>oldpeak</th>\n",
       "      <th>slope</th>\n",
       "      <th>ca</th>\n",
       "      <th>thal</th>\n",
       "      <th>target</th>\n",
       "    </tr>\n",
       "  </thead>\n",
       "  <tbody>\n",
       "    <tr>\n",
       "      <th>164</th>\n",
       "      <td>38</td>\n",
       "      <td>1</td>\n",
       "      <td>2</td>\n",
       "      <td>138</td>\n",
       "      <td>175</td>\n",
       "      <td>0</td>\n",
       "      <td>1</td>\n",
       "      <td>173</td>\n",
       "      <td>0</td>\n",
       "      <td>0.0</td>\n",
       "      <td>2</td>\n",
       "      <td>4</td>\n",
       "      <td>2</td>\n",
       "      <td>1</td>\n",
       "    </tr>\n",
       "  </tbody>\n",
       "</table>\n",
       "</div>\n",
       "      <button class=\"colab-df-convert\" onclick=\"convertToInteractive('df-230613b6-52b8-4f81-8eee-3d370f29a22c')\"\n",
       "              title=\"Convert this dataframe to an interactive table.\"\n",
       "              style=\"display:none;\">\n",
       "        \n",
       "  <svg xmlns=\"http://www.w3.org/2000/svg\" height=\"24px\"viewBox=\"0 0 24 24\"\n",
       "       width=\"24px\">\n",
       "    <path d=\"M0 0h24v24H0V0z\" fill=\"none\"/>\n",
       "    <path d=\"M18.56 5.44l.94 2.06.94-2.06 2.06-.94-2.06-.94-.94-2.06-.94 2.06-2.06.94zm-11 1L8.5 8.5l.94-2.06 2.06-.94-2.06-.94L8.5 2.5l-.94 2.06-2.06.94zm10 10l.94 2.06.94-2.06 2.06-.94-2.06-.94-.94-2.06-.94 2.06-2.06.94z\"/><path d=\"M17.41 7.96l-1.37-1.37c-.4-.4-.92-.59-1.43-.59-.52 0-1.04.2-1.43.59L10.3 9.45l-7.72 7.72c-.78.78-.78 2.05 0 2.83L4 21.41c.39.39.9.59 1.41.59.51 0 1.02-.2 1.41-.59l7.78-7.78 2.81-2.81c.8-.78.8-2.07 0-2.86zM5.41 20L4 18.59l7.72-7.72 1.47 1.35L5.41 20z\"/>\n",
       "  </svg>\n",
       "      </button>\n",
       "      \n",
       "  <style>\n",
       "    .colab-df-container {\n",
       "      display:flex;\n",
       "      flex-wrap:wrap;\n",
       "      gap: 12px;\n",
       "    }\n",
       "\n",
       "    .colab-df-convert {\n",
       "      background-color: #E8F0FE;\n",
       "      border: none;\n",
       "      border-radius: 50%;\n",
       "      cursor: pointer;\n",
       "      display: none;\n",
       "      fill: #1967D2;\n",
       "      height: 32px;\n",
       "      padding: 0 0 0 0;\n",
       "      width: 32px;\n",
       "    }\n",
       "\n",
       "    .colab-df-convert:hover {\n",
       "      background-color: #E2EBFA;\n",
       "      box-shadow: 0px 1px 2px rgba(60, 64, 67, 0.3), 0px 1px 3px 1px rgba(60, 64, 67, 0.15);\n",
       "      fill: #174EA6;\n",
       "    }\n",
       "\n",
       "    [theme=dark] .colab-df-convert {\n",
       "      background-color: #3B4455;\n",
       "      fill: #D2E3FC;\n",
       "    }\n",
       "\n",
       "    [theme=dark] .colab-df-convert:hover {\n",
       "      background-color: #434B5C;\n",
       "      box-shadow: 0px 1px 3px 1px rgba(0, 0, 0, 0.15);\n",
       "      filter: drop-shadow(0px 1px 2px rgba(0, 0, 0, 0.3));\n",
       "      fill: #FFFFFF;\n",
       "    }\n",
       "  </style>\n",
       "\n",
       "      <script>\n",
       "        const buttonEl =\n",
       "          document.querySelector('#df-230613b6-52b8-4f81-8eee-3d370f29a22c button.colab-df-convert');\n",
       "        buttonEl.style.display =\n",
       "          google.colab.kernel.accessAllowed ? 'block' : 'none';\n",
       "\n",
       "        async function convertToInteractive(key) {\n",
       "          const element = document.querySelector('#df-230613b6-52b8-4f81-8eee-3d370f29a22c');\n",
       "          const dataTable =\n",
       "            await google.colab.kernel.invokeFunction('convertToInteractive',\n",
       "                                                     [key], {});\n",
       "          if (!dataTable) return;\n",
       "\n",
       "          const docLinkHtml = 'Like what you see? Visit the ' +\n",
       "            '<a target=\"_blank\" href=https://colab.research.google.com/notebooks/data_table.ipynb>data table notebook</a>'\n",
       "            + ' to learn more about interactive tables.';\n",
       "          element.innerHTML = '';\n",
       "          dataTable['output_type'] = 'display_data';\n",
       "          await google.colab.output.renderOutput(dataTable, element);\n",
       "          const docLink = document.createElement('div');\n",
       "          docLink.innerHTML = docLinkHtml;\n",
       "          element.appendChild(docLink);\n",
       "        }\n",
       "      </script>\n",
       "    </div>\n",
       "  </div>\n",
       "  "
      ],
      "text/plain": [
       "     age  sex  cp  trestbps  chol  fbs  restecg  thalach  exang  oldpeak  \\\n",
       "164   38    1   2       138   175    0        1      173      0      0.0   \n",
       "\n",
       "     slope  ca  thal  target  \n",
       "164      2   4     2       1  "
      ]
     },
     "execution_count": 47,
     "metadata": {},
     "output_type": "execute_result"
    }
   ],
   "source": [
    "dataset[dataset.duplicated()]"
   ]
  },
  {
   "cell_type": "code",
   "execution_count": null,
   "metadata": {
    "colab": {
     "base_uri": "https://localhost:8080/"
    },
    "id": "fZgCWC1vi_9C",
    "outputId": "beeb89cd-3ad7-4198-b57f-f047d417cd16"
   },
   "outputs": [
    {
     "name": "stdout",
     "output_type": "stream",
     "text": [
      "[164]\n"
     ]
    }
   ],
   "source": [
    "duplicated_features = dataset[dataset.duplicated()].index.values\n",
    "print(duplicated_features)"
   ]
  },
  {
   "cell_type": "code",
   "execution_count": null,
   "metadata": {
    "colab": {
     "base_uri": "https://localhost:8080/"
    },
    "id": "7-o7YfzdjEzb",
    "outputId": "ca4c478c-360a-4045-da35-6b74466b4097"
   },
   "outputs": [
    {
     "data": {
      "text/plain": [
       "(14, 302)"
      ]
     },
     "execution_count": 50,
     "metadata": {},
     "output_type": "execute_result"
    }
   ],
   "source": [
    "unique_df = dataset.drop_duplicates(keep='first').T\n",
    "unique_df.shape"
   ]
  },
  {
   "cell_type": "code",
   "execution_count": null,
   "metadata": {
    "colab": {
     "base_uri": "https://localhost:8080/"
    },
    "id": "s00mYk76jKDx",
    "outputId": "8245ef4f-e1fd-41c0-e56e-05e829dfa5b9"
   },
   "outputs": [
    {
     "data": {
      "text/plain": [
       "['age',\n",
       " 'sex',\n",
       " 'cp',\n",
       " 'trestbps',\n",
       " 'chol',\n",
       " 'fbs',\n",
       " 'restecg',\n",
       " 'thalach',\n",
       " 'exang',\n",
       " 'oldpeak',\n",
       " 'slope',\n",
       " 'ca',\n",
       " 'thal',\n",
       " 'target']"
      ]
     },
     "execution_count": 51,
     "metadata": {},
     "output_type": "execute_result"
    }
   ],
   "source": [
    "removed_features = [col for col in dataset.columns if col not in unique_df.columns]\n",
    "removed_features"
   ]
  },
  {
   "cell_type": "code",
   "execution_count": null,
   "metadata": {
    "colab": {
     "base_uri": "https://localhost:8080/"
    },
    "id": "HJ4JeGctjNJj",
    "outputId": "feb6f3aa-9f1d-44b8-f34c-236f1c88e348"
   },
   "outputs": [
    {
     "data": {
      "text/plain": [
       "VarianceThreshold(threshold=0)"
      ]
     },
     "execution_count": 52,
     "metadata": {},
     "output_type": "execute_result"
    }
   ],
   "source": [
    "from sklearn.feature_selection import VarianceThreshold\n",
    "feature_selector = VarianceThreshold(threshold=0)\n",
    "feature_selector.fit(X_train)"
   ]
  },
  {
   "cell_type": "code",
   "execution_count": null,
   "metadata": {
    "colab": {
     "base_uri": "https://localhost:8080/"
    },
    "id": "AHJ04tu4jSBU",
    "outputId": "ccb48cb6-13a4-4eee-c594-eda5403f940f"
   },
   "outputs": [
    {
     "data": {
      "text/plain": [
       "array([ True,  True,  True,  True,  True,  True,  True,  True,  True,\n",
       "        True])"
      ]
     },
     "execution_count": 53,
     "metadata": {},
     "output_type": "execute_result"
    }
   ],
   "source": [
    "feature_selector.get_support()"
   ]
  },
  {
   "cell_type": "code",
   "execution_count": null,
   "metadata": {
    "colab": {
     "base_uri": "https://localhost:8080/"
    },
    "id": "Db71-hNajVcd",
    "outputId": "5ef3ac93-710e-450a-9315-c234f2be5697"
   },
   "outputs": [
    {
     "data": {
      "text/plain": [
       "10"
      ]
     },
     "execution_count": 54,
     "metadata": {},
     "output_type": "execute_result"
    }
   ],
   "source": [
    "sum(feature_selector.get_support())"
   ]
  },
  {
   "cell_type": "code",
   "execution_count": null,
   "metadata": {
    "colab": {
     "base_uri": "https://localhost:8080/"
    },
    "id": "Q9gAxb9MjYxA",
    "outputId": "1fcb346a-39ce-4a57-d502-cb7034b952ae"
   },
   "outputs": [
    {
     "data": {
      "text/plain": [
       "((272, 10), (31, 10))"
      ]
     },
     "execution_count": 55,
     "metadata": {},
     "output_type": "execute_result"
    }
   ],
   "source": [
    "X_train = feature_selector.transform(X_train)\n",
    "X_test = feature_selector.transform(X_test)\n",
    "X_train.shape, X_test.shape"
   ]
  },
  {
   "cell_type": "code",
   "execution_count": null,
   "metadata": {
    "id": "eiz_WR_NjdDQ"
   },
   "outputs": [],
   "source": [
    "from sklearn.preprocessing import StandardScaler\n",
    "sc = StandardScaler()\n",
    "X_train = sc.fit_transform(X_train)\n",
    "X_test = sc.transform(X_test)"
   ]
  },
  {
   "cell_type": "code",
   "execution_count": null,
   "metadata": {
    "id": "w5sedkjHjie7"
   },
   "outputs": [],
   "source": [
    "model = Sequential()\n",
    "model.add(Dense(12, input_dim=10, activation='relu'))\n",
    "model.add(Dense(8, activation='relu'))\n",
    "model.add(Dense(1, activation='sigmoid'))"
   ]
  },
  {
   "cell_type": "code",
   "execution_count": null,
   "metadata": {
    "id": "lzY6Qrofjp7h"
   },
   "outputs": [],
   "source": [
    "model.compile(loss='binary_crossentropy', optimizer='adam', metrics=['accuracy'])"
   ]
  },
  {
   "cell_type": "code",
   "execution_count": null,
   "metadata": {
    "colab": {
     "base_uri": "https://localhost:8080/"
    },
    "id": "KA51wsEuju6i",
    "outputId": "4457f3b3-9621-42ee-e05b-6d1fdbad3052"
   },
   "outputs": [
    {
     "name": "stdout",
     "output_type": "stream",
     "text": [
      "Epoch 1/60\n",
      "10/10 [==============================] - 1s 18ms/step - loss: 18.4087 - accuracy: 0.5380 - val_loss: 0.7934 - val_accuracy: 0.4194\n",
      "Epoch 2/60\n",
      "10/10 [==============================] - 0s 4ms/step - loss: 9.6818 - accuracy: 0.4752 - val_loss: 0.8068 - val_accuracy: 0.4516\n",
      "Epoch 3/60\n",
      "10/10 [==============================] - 0s 4ms/step - loss: 8.0700 - accuracy: 0.3762 - val_loss: 0.8017 - val_accuracy: 0.4516\n",
      "Epoch 4/60\n",
      "10/10 [==============================] - 0s 4ms/step - loss: 7.3408 - accuracy: 0.3795 - val_loss: 0.7840 - val_accuracy: 0.4839\n",
      "Epoch 5/60\n",
      "10/10 [==============================] - 0s 4ms/step - loss: 6.3065 - accuracy: 0.4158 - val_loss: 0.7696 - val_accuracy: 0.5484\n",
      "Epoch 6/60\n",
      "10/10 [==============================] - 0s 4ms/step - loss: 5.6647 - accuracy: 0.4191 - val_loss: 0.7590 - val_accuracy: 0.5806\n",
      "Epoch 7/60\n",
      "10/10 [==============================] - 0s 4ms/step - loss: 4.7852 - accuracy: 0.3960 - val_loss: 0.7463 - val_accuracy: 0.5806\n",
      "Epoch 8/60\n",
      "10/10 [==============================] - 0s 4ms/step - loss: 3.6696 - accuracy: 0.4158 - val_loss: 0.7328 - val_accuracy: 0.5806\n",
      "Epoch 9/60\n",
      "10/10 [==============================] - 0s 4ms/step - loss: 2.6854 - accuracy: 0.4950 - val_loss: 0.7209 - val_accuracy: 0.5806\n",
      "Epoch 10/60\n",
      "10/10 [==============================] - 0s 4ms/step - loss: 1.8150 - accuracy: 0.5182 - val_loss: 0.7106 - val_accuracy: 0.5484\n",
      "Epoch 11/60\n",
      "10/10 [==============================] - 0s 4ms/step - loss: 1.2846 - accuracy: 0.5842 - val_loss: 0.7034 - val_accuracy: 0.5484\n",
      "Epoch 12/60\n",
      "10/10 [==============================] - 0s 4ms/step - loss: 0.9991 - accuracy: 0.6634 - val_loss: 0.6972 - val_accuracy: 0.5806\n",
      "Epoch 13/60\n",
      "10/10 [==============================] - 0s 4ms/step - loss: 0.8523 - accuracy: 0.7195 - val_loss: 0.6954 - val_accuracy: 0.5484\n",
      "Epoch 14/60\n",
      "10/10 [==============================] - 0s 4ms/step - loss: 0.8023 - accuracy: 0.6865 - val_loss: 0.6929 - val_accuracy: 0.5484\n",
      "Epoch 15/60\n",
      "10/10 [==============================] - 0s 4ms/step - loss: 0.8489 - accuracy: 0.6634 - val_loss: 0.6915 - val_accuracy: 0.5484\n",
      "Epoch 16/60\n",
      "10/10 [==============================] - 0s 4ms/step - loss: 0.7000 - accuracy: 0.6733 - val_loss: 0.6904 - val_accuracy: 0.5484\n",
      "Epoch 17/60\n",
      "10/10 [==============================] - 0s 4ms/step - loss: 0.7315 - accuracy: 0.6667 - val_loss: 0.6877 - val_accuracy: 0.5484\n",
      "Epoch 18/60\n",
      "10/10 [==============================] - 0s 5ms/step - loss: 0.6754 - accuracy: 0.6436 - val_loss: 0.6852 - val_accuracy: 0.5484\n",
      "Epoch 19/60\n",
      "10/10 [==============================] - 0s 4ms/step - loss: 0.6068 - accuracy: 0.7294 - val_loss: 0.6823 - val_accuracy: 0.5806\n",
      "Epoch 20/60\n",
      "10/10 [==============================] - 0s 4ms/step - loss: 0.6018 - accuracy: 0.7030 - val_loss: 0.6792 - val_accuracy: 0.5806\n",
      "Epoch 21/60\n",
      "10/10 [==============================] - 0s 4ms/step - loss: 0.6116 - accuracy: 0.6964 - val_loss: 0.6768 - val_accuracy: 0.5806\n",
      "Epoch 22/60\n",
      "10/10 [==============================] - 0s 4ms/step - loss: 0.5924 - accuracy: 0.6997 - val_loss: 0.6739 - val_accuracy: 0.5806\n",
      "Epoch 23/60\n",
      "10/10 [==============================] - 0s 5ms/step - loss: 0.5683 - accuracy: 0.7294 - val_loss: 0.6705 - val_accuracy: 0.5806\n",
      "Epoch 24/60\n",
      "10/10 [==============================] - 0s 4ms/step - loss: 0.6058 - accuracy: 0.6667 - val_loss: 0.6684 - val_accuracy: 0.5806\n",
      "Epoch 25/60\n",
      "10/10 [==============================] - 0s 5ms/step - loss: 0.6175 - accuracy: 0.6469 - val_loss: 0.6659 - val_accuracy: 0.6129\n",
      "Epoch 26/60\n",
      "10/10 [==============================] - 0s 4ms/step - loss: 0.5605 - accuracy: 0.7459 - val_loss: 0.6629 - val_accuracy: 0.6129\n",
      "Epoch 27/60\n",
      "10/10 [==============================] - 0s 4ms/step - loss: 0.5650 - accuracy: 0.7129 - val_loss: 0.6603 - val_accuracy: 0.6129\n",
      "Epoch 28/60\n",
      "10/10 [==============================] - 0s 4ms/step - loss: 0.5442 - accuracy: 0.7393 - val_loss: 0.6579 - val_accuracy: 0.6129\n",
      "Epoch 29/60\n",
      "10/10 [==============================] - 0s 4ms/step - loss: 0.5707 - accuracy: 0.7360 - val_loss: 0.6556 - val_accuracy: 0.6129\n",
      "Epoch 30/60\n",
      "10/10 [==============================] - 0s 4ms/step - loss: 0.5337 - accuracy: 0.7789 - val_loss: 0.6534 - val_accuracy: 0.6129\n",
      "Epoch 31/60\n",
      "10/10 [==============================] - 0s 4ms/step - loss: 0.5259 - accuracy: 0.7591 - val_loss: 0.6513 - val_accuracy: 0.6129\n",
      "Epoch 32/60\n",
      "10/10 [==============================] - 0s 4ms/step - loss: 0.5385 - accuracy: 0.7591 - val_loss: 0.6492 - val_accuracy: 0.6129\n",
      "Epoch 33/60\n",
      "10/10 [==============================] - 0s 4ms/step - loss: 0.5957 - accuracy: 0.7030 - val_loss: 0.6466 - val_accuracy: 0.6129\n",
      "Epoch 34/60\n",
      "10/10 [==============================] - 0s 4ms/step - loss: 0.6005 - accuracy: 0.7030 - val_loss: 0.6441 - val_accuracy: 0.6129\n",
      "Epoch 35/60\n",
      "10/10 [==============================] - 0s 4ms/step - loss: 0.5544 - accuracy: 0.7228 - val_loss: 0.6409 - val_accuracy: 0.6129\n",
      "Epoch 36/60\n",
      "10/10 [==============================] - 0s 4ms/step - loss: 0.5065 - accuracy: 0.7591 - val_loss: 0.6386 - val_accuracy: 0.6129\n",
      "Epoch 37/60\n",
      "10/10 [==============================] - 0s 4ms/step - loss: 0.5086 - accuracy: 0.7855 - val_loss: 0.6363 - val_accuracy: 0.6452\n",
      "Epoch 38/60\n",
      "10/10 [==============================] - 0s 4ms/step - loss: 0.5069 - accuracy: 0.7690 - val_loss: 0.6340 - val_accuracy: 0.6452\n",
      "Epoch 39/60\n",
      "10/10 [==============================] - 0s 5ms/step - loss: 0.5042 - accuracy: 0.7756 - val_loss: 0.6322 - val_accuracy: 0.6452\n",
      "Epoch 40/60\n",
      "10/10 [==============================] - 0s 4ms/step - loss: 0.4965 - accuracy: 0.7657 - val_loss: 0.6298 - val_accuracy: 0.6452\n",
      "Epoch 41/60\n",
      "10/10 [==============================] - 0s 4ms/step - loss: 0.5256 - accuracy: 0.7459 - val_loss: 0.6271 - val_accuracy: 0.6452\n",
      "Epoch 42/60\n",
      "10/10 [==============================] - 0s 4ms/step - loss: 0.5224 - accuracy: 0.7558 - val_loss: 0.6249 - val_accuracy: 0.6774\n",
      "Epoch 43/60\n",
      "10/10 [==============================] - 0s 4ms/step - loss: 0.4897 - accuracy: 0.7657 - val_loss: 0.6227 - val_accuracy: 0.6774\n",
      "Epoch 44/60\n",
      "10/10 [==============================] - 0s 4ms/step - loss: 0.4876 - accuracy: 0.7822 - val_loss: 0.6209 - val_accuracy: 0.6774\n",
      "Epoch 45/60\n",
      "10/10 [==============================] - 0s 4ms/step - loss: 0.4847 - accuracy: 0.7855 - val_loss: 0.6187 - val_accuracy: 0.6774\n",
      "Epoch 46/60\n",
      "10/10 [==============================] - 0s 5ms/step - loss: 0.4811 - accuracy: 0.7789 - val_loss: 0.6159 - val_accuracy: 0.6774\n",
      "Epoch 47/60\n",
      "10/10 [==============================] - 0s 4ms/step - loss: 0.5025 - accuracy: 0.7591 - val_loss: 0.6135 - val_accuracy: 0.6774\n",
      "Epoch 48/60\n",
      "10/10 [==============================] - 0s 4ms/step - loss: 0.4815 - accuracy: 0.7723 - val_loss: 0.6118 - val_accuracy: 0.6774\n",
      "Epoch 49/60\n",
      "10/10 [==============================] - 0s 4ms/step - loss: 0.4878 - accuracy: 0.7525 - val_loss: 0.6093 - val_accuracy: 0.6774\n",
      "Epoch 50/60\n",
      "10/10 [==============================] - 0s 4ms/step - loss: 0.5052 - accuracy: 0.7591 - val_loss: 0.6071 - val_accuracy: 0.6774\n",
      "Epoch 51/60\n",
      "10/10 [==============================] - 0s 4ms/step - loss: 0.5603 - accuracy: 0.6964 - val_loss: 0.6052 - val_accuracy: 0.6774\n",
      "Epoch 52/60\n",
      "10/10 [==============================] - 0s 4ms/step - loss: 0.4816 - accuracy: 0.7888 - val_loss: 0.6029 - val_accuracy: 0.6774\n",
      "Epoch 53/60\n",
      "10/10 [==============================] - 0s 4ms/step - loss: 0.5310 - accuracy: 0.7294 - val_loss: 0.6006 - val_accuracy: 0.6774\n",
      "Epoch 54/60\n",
      "10/10 [==============================] - 0s 4ms/step - loss: 0.4736 - accuracy: 0.7822 - val_loss: 0.5988 - val_accuracy: 0.6774\n",
      "Epoch 55/60\n",
      "10/10 [==============================] - 0s 4ms/step - loss: 0.4802 - accuracy: 0.7822 - val_loss: 0.5971 - val_accuracy: 0.6774\n",
      "Epoch 56/60\n",
      "10/10 [==============================] - 0s 4ms/step - loss: 0.4985 - accuracy: 0.7591 - val_loss: 0.5951 - val_accuracy: 0.6774\n",
      "Epoch 57/60\n",
      "10/10 [==============================] - 0s 4ms/step - loss: 0.4760 - accuracy: 0.7690 - val_loss: 0.5936 - val_accuracy: 0.6774\n",
      "Epoch 58/60\n",
      "10/10 [==============================] - 0s 4ms/step - loss: 0.4765 - accuracy: 0.7690 - val_loss: 0.5919 - val_accuracy: 0.6774\n",
      "Epoch 59/60\n",
      "10/10 [==============================] - 0s 4ms/step - loss: 0.4891 - accuracy: 0.7855 - val_loss: 0.5898 - val_accuracy: 0.6774\n",
      "Epoch 60/60\n",
      "10/10 [==============================] - 0s 4ms/step - loss: 0.5101 - accuracy: 0.7591 - val_loss: 0.5883 - val_accuracy: 0.6774\n"
     ]
    }
   ],
   "source": [
    "history=model.fit(X, Y, epochs=60, batch_size=32,validation_data=(X_test,Y_test))"
   ]
  },
  {
   "cell_type": "code",
   "execution_count": null,
   "metadata": {
    "colab": {
     "base_uri": "https://localhost:8080/"
    },
    "id": "SVR0g4MIj3jH",
    "outputId": "ef16efbf-2f55-46e7-c9b6-7afd6c036b49"
   },
   "outputs": [
    {
     "data": {
      "text/plain": [
       "dict_keys(['loss', 'accuracy', 'val_loss', 'val_accuracy'])"
      ]
     },
     "execution_count": 60,
     "metadata": {},
     "output_type": "execute_result"
    }
   ],
   "source": [
    "history.history.keys()"
   ]
  },
  {
   "cell_type": "code",
   "execution_count": null,
   "metadata": {
    "colab": {
     "base_uri": "https://localhost:8080/",
     "height": 295
    },
    "id": "Mafc8hSWj8PG",
    "outputId": "8fdd751c-3d37-411a-c63b-62e2cf443e9c"
   },
   "outputs": [
    {
     "data": {
      "image/png": "[encoded data removed]",
      "text/plain": [
       "<Figure size 432x288 with 1 Axes>"
      ]
     },
     "metadata": {
      "needs_background": "light"
     },
     "output_type": "display_data"
    }
   ],
   "source": [
    "import matplotlib.pyplot as plt\n",
    "loss=history.history['loss']\n",
    "val_loss=history.history['val_loss']\n",
    "epochs=range(1, len(loss)+1)\n",
    "#acc=history.history['accuracy']\n",
    "#val_acc=history.history['val_accuracy']\n",
    "plt.plot(epochs,loss,'y',label='Training loss ')\n",
    "plt.plot(epochs,val_loss,'r',label='Validation loss ')\n",
    "plt.title('Training and Validation Loss')\n",
    "plt.ylabel('loss')\n",
    "plt.xlabel('epoch')\n",
    "plt.legend()\n",
    "plt.show()"
   ]
  },
  {
   "cell_type": "code",
   "execution_count": null,
   "metadata": {
    "colab": {
     "base_uri": "https://localhost:8080/",
     "height": 295
    },
    "id": "Z50HdqaokAMM",
    "outputId": "dc61d747-e427-451b-c7ba-aaeeac9164f8"
   },
   "outputs": [
    {
     "data": {
      "image/png": "[encoded data removed]",
      "text/plain": [
       "<Figure size 432x288 with 1 Axes>"
      ]
     },
     "metadata": {
      "needs_background": "light"
     },
     "output_type": "display_data"
    }
   ],
   "source": [
    "acc=history.history['accuracy']\n",
    "val_acc=history.history['val_accuracy']\n",
    "plt.plot(epochs,acc,'y',label='Training Accuracy')\n",
    "plt.plot(epochs,val_acc,'r',label='Validation Accuracy ')\n",
    "plt.title('Training and Validation Accuracy')\n",
    "plt.ylabel('accuracy')\n",
    "plt.xlabel('epoch')\n",
    "plt.legend()\n",
    "plt.show()\n"
   ]
  },
  {
   "cell_type": "code",
   "execution_count": null,
   "metadata": {
    "colab": {
     "base_uri": "https://localhost:8080/",
     "height": 300
    },
    "id": "YDW_mbkGr_ly",
    "outputId": "8ac4b140-23de-4b36-b340-0b563f5dba4e"
   },
   "outputs": [
    {
     "name": "stdout",
     "output_type": "stream",
     "text": [
      "0.7563025210084033\n"
     ]
    },
    {
     "data": {
      "text/plain": [
       "[<matplotlib.lines.Line2D at 0x7f358c4abc10>]"
      ]
     },
     "execution_count": 63,
     "metadata": {},
     "output_type": "execute_result"
    },
    {
     "data": {
      "image/png": "[encoded data removed]",
      "text/plain": [
       "<Figure size 432x288 with 1 Axes>"
      ]
     },
     "metadata": {
      "needs_background": "light"
     },
     "output_type": "display_data"
    }
   ],
   "source": [
    "from sklearn.metrics import roc_auc_score\n",
    "from sklearn.metrics import roc_curve\n",
    "from tensorflow import keras\n",
    "probs=model.predict(X_test)\n",
    "probs=probs[:,0]\n",
    "auc=roc_auc_score(Y_test,probs)\n",
    "print(auc)\n",
    "fpr,tpr,thresh=roc_curve(Y_test,probs)\n",
    "plt.plot([0,1],[0,1],linestyle='--')\n",
    "plt.plot(fpr,tpr,marker=\".\",color=\"red\")"
   ]
  }
 ],
 "metadata": {
  "colab": {
   "provenance": []
  },
  "kernelspec": {
   "display_name": "Python 3",
   "name": "python3"
  },
  "language_info": {
   "name": "python"
  }
 },
 "nbformat": 4,
 "nbformat_minor": 0
}
