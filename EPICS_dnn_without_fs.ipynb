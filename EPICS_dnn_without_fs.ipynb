{
 "cells": [
  {
   "cell_type": "code",
   "execution_count": null,
   "metadata": {
    "id": "U1bOOasEJbyg"
   },
   "outputs": [],
   "source": [
    "import pandas as pd\n",
    "import numpy as np\n",
    "from keras.models import Sequential\n",
    "from keras.layers import Dense\n",
    "from keras.layers import Input\n",
    "from keras.utils import np_utils"
   ]
  },
  {
   "cell_type": "code",
   "execution_count": null,
   "metadata": {
    "id": "PXHNHaYTLbO6"
   },
   "outputs": [],
   "source": [
    "dataset = pd.read_csv('heart.csv')"
   ]
  },
  {
   "cell_type": "code",
   "execution_count": null,
   "metadata": {
    "colab": {
     "base_uri": "https://localhost:8080/",
     "height": 206
    },
    "id": "aRFpsV-pLc0y",
    "outputId": "02005005-9c7d-4914-b971-9b8e84925f82"
   },
   "outputs": [
    {
     "data": {
      "text/html": [
       "\n",
       "  <div id=\"df-68036524-e0e9-4478-8952-4cb51c987851\">\n",
       "    <div class=\"colab-df-container\">\n",
       "      <div>\n",
       "<style scoped>\n",
       "    .dataframe tbody tr th:only-of-type {\n",
       "        vertical-align: middle;\n",
       "    }\n",
       "\n",
       "    .dataframe tbody tr th {\n",
       "        vertical-align: top;\n",
       "    }\n",
       "\n",
       "    .dataframe thead th {\n",
       "        text-align: right;\n",
       "    }\n",
       "</style>\n",
       "<table border=\"1\" class=\"dataframe\">\n",
       "  <thead>\n",
       "    <tr style=\"text-align: right;\">\n",
       "      <th></th>\n",
       "      <th>age</th>\n",
       "      <th>sex</th>\n",
       "      <th>cp</th>\n",
       "      <th>trestbps</th>\n",
       "      <th>chol</th>\n",
       "      <th>fbs</th>\n",
       "      <th>restecg</th>\n",
       "      <th>thalach</th>\n",
       "      <th>exang</th>\n",
       "      <th>oldpeak</th>\n",
       "      <th>slope</th>\n",
       "      <th>ca</th>\n",
       "      <th>thal</th>\n",
       "      <th>target</th>\n",
       "    </tr>\n",
       "  </thead>\n",
       "  <tbody>\n",
       "    <tr>\n",
       "      <th>0</th>\n",
       "      <td>63</td>\n",
       "      <td>1</td>\n",
       "      <td>3</td>\n",
       "      <td>145</td>\n",
       "      <td>233</td>\n",
       "      <td>1</td>\n",
       "      <td>0</td>\n",
       "      <td>150</td>\n",
       "      <td>0</td>\n",
       "      <td>2.3</td>\n",
       "      <td>0</td>\n",
       "      <td>0</td>\n",
       "      <td>1</td>\n",
       "      <td>1</td>\n",
       "    </tr>\n",
       "    <tr>\n",
       "      <th>1</th>\n",
       "      <td>37</td>\n",
       "      <td>1</td>\n",
       "      <td>2</td>\n",
       "      <td>130</td>\n",
       "      <td>250</td>\n",
       "      <td>0</td>\n",
       "      <td>1</td>\n",
       "      <td>187</td>\n",
       "      <td>0</td>\n",
       "      <td>3.5</td>\n",
       "      <td>0</td>\n",
       "      <td>0</td>\n",
       "      <td>2</td>\n",
       "      <td>1</td>\n",
       "    </tr>\n",
       "    <tr>\n",
       "      <th>2</th>\n",
       "      <td>41</td>\n",
       "      <td>0</td>\n",
       "      <td>1</td>\n",
       "      <td>130</td>\n",
       "      <td>204</td>\n",
       "      <td>0</td>\n",
       "      <td>0</td>\n",
       "      <td>172</td>\n",
       "      <td>0</td>\n",
       "      <td>1.4</td>\n",
       "      <td>2</td>\n",
       "      <td>0</td>\n",
       "      <td>2</td>\n",
       "      <td>1</td>\n",
       "    </tr>\n",
       "    <tr>\n",
       "      <th>3</th>\n",
       "      <td>56</td>\n",
       "      <td>1</td>\n",
       "      <td>1</td>\n",
       "      <td>120</td>\n",
       "      <td>236</td>\n",
       "      <td>0</td>\n",
       "      <td>1</td>\n",
       "      <td>178</td>\n",
       "      <td>0</td>\n",
       "      <td>0.8</td>\n",
       "      <td>2</td>\n",
       "      <td>0</td>\n",
       "      <td>2</td>\n",
       "      <td>1</td>\n",
       "    </tr>\n",
       "    <tr>\n",
       "      <th>4</th>\n",
       "      <td>57</td>\n",
       "      <td>0</td>\n",
       "      <td>0</td>\n",
       "      <td>120</td>\n",
       "      <td>354</td>\n",
       "      <td>0</td>\n",
       "      <td>1</td>\n",
       "      <td>163</td>\n",
       "      <td>1</td>\n",
       "      <td>0.6</td>\n",
       "      <td>2</td>\n",
       "      <td>0</td>\n",
       "      <td>2</td>\n",
       "      <td>1</td>\n",
       "    </tr>\n",
       "  </tbody>\n",
       "</table>\n",
       "</div>\n",
       "      <button class=\"colab-df-convert\" onclick=\"convertToInteractive('df-68036524-e0e9-4478-8952-4cb51c987851')\"\n",
       "              title=\"Convert this dataframe to an interactive table.\"\n",
       "              style=\"display:none;\">\n",
       "        \n",
       "  <svg xmlns=\"http://www.w3.org/2000/svg\" height=\"24px\"viewBox=\"0 0 24 24\"\n",
       "       width=\"24px\">\n",
       "    <path d=\"M0 0h24v24H0V0z\" fill=\"none\"/>\n",
       "    <path d=\"M18.56 5.44l.94 2.06.94-2.06 2.06-.94-2.06-.94-.94-2.06-.94 2.06-2.06.94zm-11 1L8.5 8.5l.94-2.06 2.06-.94-2.06-.94L8.5 2.5l-.94 2.06-2.06.94zm10 10l.94 2.06.94-2.06 2.06-.94-2.06-.94-.94-2.06-.94 2.06-2.06.94z\"/><path d=\"M17.41 7.96l-1.37-1.37c-.4-.4-.92-.59-1.43-.59-.52 0-1.04.2-1.43.59L10.3 9.45l-7.72 7.72c-.78.78-.78 2.05 0 2.83L4 21.41c.39.39.9.59 1.41.59.51 0 1.02-.2 1.41-.59l7.78-7.78 2.81-2.81c.8-.78.8-2.07 0-2.86zM5.41 20L4 18.59l7.72-7.72 1.47 1.35L5.41 20z\"/>\n",
       "  </svg>\n",
       "      </button>\n",
       "      \n",
       "  <style>\n",
       "    .colab-df-container {\n",
       "      display:flex;\n",
       "      flex-wrap:wrap;\n",
       "      gap: 12px;\n",
       "    }\n",
       "\n",
       "    .colab-df-convert {\n",
       "      background-color: #E8F0FE;\n",
       "      border: none;\n",
       "      border-radius: 50%;\n",
       "      cursor: pointer;\n",
       "      display: none;\n",
       "      fill: #1967D2;\n",
       "      height: 32px;\n",
       "      padding: 0 0 0 0;\n",
       "      width: 32px;\n",
       "    }\n",
       "\n",
       "    .colab-df-convert:hover {\n",
       "      background-color: #E2EBFA;\n",
       "      box-shadow: 0px 1px 2px rgba(60, 64, 67, 0.3), 0px 1px 3px 1px rgba(60, 64, 67, 0.15);\n",
       "      fill: #174EA6;\n",
       "    }\n",
       "\n",
       "    [theme=dark] .colab-df-convert {\n",
       "      background-color: #3B4455;\n",
       "      fill: #D2E3FC;\n",
       "    }\n",
       "\n",
       "    [theme=dark] .colab-df-convert:hover {\n",
       "      background-color: #434B5C;\n",
       "      box-shadow: 0px 1px 3px 1px rgba(0, 0, 0, 0.15);\n",
       "      filter: drop-shadow(0px 1px 2px rgba(0, 0, 0, 0.3));\n",
       "      fill: #FFFFFF;\n",
       "    }\n",
       "  </style>\n",
       "\n",
       "      <script>\n",
       "        const buttonEl =\n",
       "          document.querySelector('#df-68036524-e0e9-4478-8952-4cb51c987851 button.colab-df-convert');\n",
       "        buttonEl.style.display =\n",
       "          google.colab.kernel.accessAllowed ? 'block' : 'none';\n",
       "\n",
       "        async function convertToInteractive(key) {\n",
       "          const element = document.querySelector('#df-68036524-e0e9-4478-8952-4cb51c987851');\n",
       "          const dataTable =\n",
       "            await google.colab.kernel.invokeFunction('convertToInteractive',\n",
       "                                                     [key], {});\n",
       "          if (!dataTable) return;\n",
       "\n",
       "          const docLinkHtml = 'Like what you see? Visit the ' +\n",
       "            '<a target=\"_blank\" href=https://colab.research.google.com/notebooks/data_table.ipynb>data table notebook</a>'\n",
       "            + ' to learn more about interactive tables.';\n",
       "          element.innerHTML = '';\n",
       "          dataTable['output_type'] = 'display_data';\n",
       "          await google.colab.output.renderOutput(dataTable, element);\n",
       "          const docLink = document.createElement('div');\n",
       "          docLink.innerHTML = docLinkHtml;\n",
       "          element.appendChild(docLink);\n",
       "        }\n",
       "      </script>\n",
       "    </div>\n",
       "  </div>\n",
       "  "
      ],
      "text/plain": [
       "   age  sex  cp  trestbps  chol  fbs  restecg  thalach  exang  oldpeak  slope  \\\n",
       "0   63    1   3       145   233    1        0      150      0      2.3      0   \n",
       "1   37    1   2       130   250    0        1      187      0      3.5      0   \n",
       "2   41    0   1       130   204    0        0      172      0      1.4      2   \n",
       "3   56    1   1       120   236    0        1      178      0      0.8      2   \n",
       "4   57    0   0       120   354    0        1      163      1      0.6      2   \n",
       "\n",
       "   ca  thal  target  \n",
       "0   0     1       1  \n",
       "1   0     2       1  \n",
       "2   0     2       1  \n",
       "3   0     2       1  \n",
       "4   0     2       1  "
      ]
     },
     "execution_count": 3,
     "metadata": {},
     "output_type": "execute_result"
    }
   ],
   "source": [
    "dataset.head()"
   ]
  },
  {
   "cell_type": "code",
   "execution_count": null,
   "metadata": {
    "colab": {
     "base_uri": "https://localhost:8080/",
     "height": 206
    },
    "id": "XF-2uUDHLfuT",
    "outputId": "f123adca-8e51-4540-fea8-4a8949f02868"
   },
   "outputs": [
    {
     "data": {
      "text/html": [
       "\n",
       "  <div id=\"df-b9ebd9ef-b63e-4c88-9bb1-a4c3cc42ac3e\">\n",
       "    <div class=\"colab-df-container\">\n",
       "      <div>\n",
       "<style scoped>\n",
       "    .dataframe tbody tr th:only-of-type {\n",
       "        vertical-align: middle;\n",
       "    }\n",
       "\n",
       "    .dataframe tbody tr th {\n",
       "        vertical-align: top;\n",
       "    }\n",
       "\n",
       "    .dataframe thead th {\n",
       "        text-align: right;\n",
       "    }\n",
       "</style>\n",
       "<table border=\"1\" class=\"dataframe\">\n",
       "  <thead>\n",
       "    <tr style=\"text-align: right;\">\n",
       "      <th></th>\n",
       "      <th>age</th>\n",
       "      <th>sex</th>\n",
       "      <th>cp</th>\n",
       "      <th>trestbps</th>\n",
       "      <th>chol</th>\n",
       "      <th>fbs</th>\n",
       "      <th>restecg</th>\n",
       "      <th>thalach</th>\n",
       "      <th>exang</th>\n",
       "      <th>oldpeak</th>\n",
       "      <th>slope</th>\n",
       "      <th>ca</th>\n",
       "      <th>thal</th>\n",
       "      <th>target</th>\n",
       "    </tr>\n",
       "  </thead>\n",
       "  <tbody>\n",
       "    <tr>\n",
       "      <th>298</th>\n",
       "      <td>57</td>\n",
       "      <td>0</td>\n",
       "      <td>0</td>\n",
       "      <td>140</td>\n",
       "      <td>241</td>\n",
       "      <td>0</td>\n",
       "      <td>1</td>\n",
       "      <td>123</td>\n",
       "      <td>1</td>\n",
       "      <td>0.2</td>\n",
       "      <td>1</td>\n",
       "      <td>0</td>\n",
       "      <td>3</td>\n",
       "      <td>0</td>\n",
       "    </tr>\n",
       "    <tr>\n",
       "      <th>299</th>\n",
       "      <td>45</td>\n",
       "      <td>1</td>\n",
       "      <td>3</td>\n",
       "      <td>110</td>\n",
       "      <td>264</td>\n",
       "      <td>0</td>\n",
       "      <td>1</td>\n",
       "      <td>132</td>\n",
       "      <td>0</td>\n",
       "      <td>1.2</td>\n",
       "      <td>1</td>\n",
       "      <td>0</td>\n",
       "      <td>3</td>\n",
       "      <td>0</td>\n",
       "    </tr>\n",
       "    <tr>\n",
       "      <th>300</th>\n",
       "      <td>68</td>\n",
       "      <td>1</td>\n",
       "      <td>0</td>\n",
       "      <td>144</td>\n",
       "      <td>193</td>\n",
       "      <td>1</td>\n",
       "      <td>1</td>\n",
       "      <td>141</td>\n",
       "      <td>0</td>\n",
       "      <td>3.4</td>\n",
       "      <td>1</td>\n",
       "      <td>2</td>\n",
       "      <td>3</td>\n",
       "      <td>0</td>\n",
       "    </tr>\n",
       "    <tr>\n",
       "      <th>301</th>\n",
       "      <td>57</td>\n",
       "      <td>1</td>\n",
       "      <td>0</td>\n",
       "      <td>130</td>\n",
       "      <td>131</td>\n",
       "      <td>0</td>\n",
       "      <td>1</td>\n",
       "      <td>115</td>\n",
       "      <td>1</td>\n",
       "      <td>1.2</td>\n",
       "      <td>1</td>\n",
       "      <td>1</td>\n",
       "      <td>3</td>\n",
       "      <td>0</td>\n",
       "    </tr>\n",
       "    <tr>\n",
       "      <th>302</th>\n",
       "      <td>57</td>\n",
       "      <td>0</td>\n",
       "      <td>1</td>\n",
       "      <td>130</td>\n",
       "      <td>236</td>\n",
       "      <td>0</td>\n",
       "      <td>0</td>\n",
       "      <td>174</td>\n",
       "      <td>0</td>\n",
       "      <td>0.0</td>\n",
       "      <td>1</td>\n",
       "      <td>1</td>\n",
       "      <td>2</td>\n",
       "      <td>0</td>\n",
       "    </tr>\n",
       "  </tbody>\n",
       "</table>\n",
       "</div>\n",
       "      <button class=\"colab-df-convert\" onclick=\"convertToInteractive('df-b9ebd9ef-b63e-4c88-9bb1-a4c3cc42ac3e')\"\n",
       "              title=\"Convert this dataframe to an interactive table.\"\n",
       "              style=\"display:none;\">\n",
       "        \n",
       "  <svg xmlns=\"http://www.w3.org/2000/svg\" height=\"24px\"viewBox=\"0 0 24 24\"\n",
       "       width=\"24px\">\n",
       "    <path d=\"M0 0h24v24H0V0z\" fill=\"none\"/>\n",
       "    <path d=\"M18.56 5.44l.94 2.06.94-2.06 2.06-.94-2.06-.94-.94-2.06-.94 2.06-2.06.94zm-11 1L8.5 8.5l.94-2.06 2.06-.94-2.06-.94L8.5 2.5l-.94 2.06-2.06.94zm10 10l.94 2.06.94-2.06 2.06-.94-2.06-.94-.94-2.06-.94 2.06-2.06.94z\"/><path d=\"M17.41 7.96l-1.37-1.37c-.4-.4-.92-.59-1.43-.59-.52 0-1.04.2-1.43.59L10.3 9.45l-7.72 7.72c-.78.78-.78 2.05 0 2.83L4 21.41c.39.39.9.59 1.41.59.51 0 1.02-.2 1.41-.59l7.78-7.78 2.81-2.81c.8-.78.8-2.07 0-2.86zM5.41 20L4 18.59l7.72-7.72 1.47 1.35L5.41 20z\"/>\n",
       "  </svg>\n",
       "      </button>\n",
       "      \n",
       "  <style>\n",
       "    .colab-df-container {\n",
       "      display:flex;\n",
       "      flex-wrap:wrap;\n",
       "      gap: 12px;\n",
       "    }\n",
       "\n",
       "    .colab-df-convert {\n",
       "      background-color: #E8F0FE;\n",
       "      border: none;\n",
       "      border-radius: 50%;\n",
       "      cursor: pointer;\n",
       "      display: none;\n",
       "      fill: #1967D2;\n",
       "      height: 32px;\n",
       "      padding: 0 0 0 0;\n",
       "      width: 32px;\n",
       "    }\n",
       "\n",
       "    .colab-df-convert:hover {\n",
       "      background-color: #E2EBFA;\n",
       "      box-shadow: 0px 1px 2px rgba(60, 64, 67, 0.3), 0px 1px 3px 1px rgba(60, 64, 67, 0.15);\n",
       "      fill: #174EA6;\n",
       "    }\n",
       "\n",
       "    [theme=dark] .colab-df-convert {\n",
       "      background-color: #3B4455;\n",
       "      fill: #D2E3FC;\n",
       "    }\n",
       "\n",
       "    [theme=dark] .colab-df-convert:hover {\n",
       "      background-color: #434B5C;\n",
       "      box-shadow: 0px 1px 3px 1px rgba(0, 0, 0, 0.15);\n",
       "      filter: drop-shadow(0px 1px 2px rgba(0, 0, 0, 0.3));\n",
       "      fill: #FFFFFF;\n",
       "    }\n",
       "  </style>\n",
       "\n",
       "      <script>\n",
       "        const buttonEl =\n",
       "          document.querySelector('#df-b9ebd9ef-b63e-4c88-9bb1-a4c3cc42ac3e button.colab-df-convert');\n",
       "        buttonEl.style.display =\n",
       "          google.colab.kernel.accessAllowed ? 'block' : 'none';\n",
       "\n",
       "        async function convertToInteractive(key) {\n",
       "          const element = document.querySelector('#df-b9ebd9ef-b63e-4c88-9bb1-a4c3cc42ac3e');\n",
       "          const dataTable =\n",
       "            await google.colab.kernel.invokeFunction('convertToInteractive',\n",
       "                                                     [key], {});\n",
       "          if (!dataTable) return;\n",
       "\n",
       "          const docLinkHtml = 'Like what you see? Visit the ' +\n",
       "            '<a target=\"_blank\" href=https://colab.research.google.com/notebooks/data_table.ipynb>data table notebook</a>'\n",
       "            + ' to learn more about interactive tables.';\n",
       "          element.innerHTML = '';\n",
       "          dataTable['output_type'] = 'display_data';\n",
       "          await google.colab.output.renderOutput(dataTable, element);\n",
       "          const docLink = document.createElement('div');\n",
       "          docLink.innerHTML = docLinkHtml;\n",
       "          element.appendChild(docLink);\n",
       "        }\n",
       "      </script>\n",
       "    </div>\n",
       "  </div>\n",
       "  "
      ],
      "text/plain": [
       "     age  sex  cp  trestbps  chol  fbs  restecg  thalach  exang  oldpeak  \\\n",
       "298   57    0   0       140   241    0        1      123      1      0.2   \n",
       "299   45    1   3       110   264    0        1      132      0      1.2   \n",
       "300   68    1   0       144   193    1        1      141      0      3.4   \n",
       "301   57    1   0       130   131    0        1      115      1      1.2   \n",
       "302   57    0   1       130   236    0        0      174      0      0.0   \n",
       "\n",
       "     slope  ca  thal  target  \n",
       "298      1   0     3       0  \n",
       "299      1   0     3       0  \n",
       "300      1   2     3       0  \n",
       "301      1   1     3       0  \n",
       "302      1   1     2       0  "
      ]
     },
     "execution_count": 4,
     "metadata": {},
     "output_type": "execute_result"
    }
   ],
   "source": [
    "dataset.tail()"
   ]
  },
  {
   "cell_type": "code",
   "execution_count": null,
   "metadata": {
    "colab": {
     "base_uri": "https://localhost:8080/"
    },
    "id": "TkOIp_E3MB6e",
    "outputId": "6ea9b3d2-1f03-40cd-d451-07fe8bfec145"
   },
   "outputs": [
    {
     "name": "stdout",
     "output_type": "stream",
     "text": [
      "<class 'pandas.core.frame.DataFrame'>\n",
      "RangeIndex: 303 entries, 0 to 302\n",
      "Data columns (total 14 columns):\n",
      " #   Column    Non-Null Count  Dtype  \n",
      "---  ------    --------------  -----  \n",
      " 0   age       303 non-null    int64  \n",
      " 1   sex       303 non-null    int64  \n",
      " 2   cp        303 non-null    int64  \n",
      " 3   trestbps  303 non-null    int64  \n",
      " 4   chol      303 non-null    int64  \n",
      " 5   fbs       303 non-null    int64  \n",
      " 6   restecg   303 non-null    int64  \n",
      " 7   thalach   303 non-null    int64  \n",
      " 8   exang     303 non-null    int64  \n",
      " 9   oldpeak   303 non-null    float64\n",
      " 10  slope     303 non-null    int64  \n",
      " 11  ca        303 non-null    int64  \n",
      " 12  thal      303 non-null    int64  \n",
      " 13  target    303 non-null    int64  \n",
      "dtypes: float64(1), int64(13)\n",
      "memory usage: 33.3 KB\n"
     ]
    }
   ],
   "source": [
    "dataset.info()"
   ]
  },
  {
   "cell_type": "code",
   "execution_count": null,
   "metadata": {
    "id": "JOyMWvmQMDHT"
   },
   "outputs": [],
   "source": [
    "X = dataset.iloc[:, 3:-1].values\n",
    "y = dataset.iloc[:, -1].values"
   ]
  },
  {
   "cell_type": "code",
   "execution_count": null,
   "metadata": {
    "id": "P7rtPkzpMLsN"
   },
   "outputs": [],
   "source": [
    "from sklearn.preprocessing import LabelEncoder\n",
    "le = LabelEncoder()\n",
    "X[:, 2] = le.fit_transform(X[:, 2])"
   ]
  },
  {
   "cell_type": "code",
   "execution_count": null,
   "metadata": {
    "colab": {
     "base_uri": "https://localhost:8080/"
    },
    "id": "XxjDn9KxMRle",
    "outputId": "22422915-015b-4d0b-a8ed-c27ce2a30d2c"
   },
   "outputs": [
    {
     "data": {
      "text/plain": [
       "((272, 10), (272,), (31, 10), (31,))"
      ]
     },
     "execution_count": 120,
     "metadata": {},
     "output_type": "execute_result"
    }
   ],
   "source": [
    "from sklearn.model_selection import train_test_split\n",
    "X_train, X_test, y_train, y_test = train_test_split(X, y, test_size = 0.1, random_state = 0)\n",
    "X_train.shape, y_train.shape, X_test.shape, y_test.shape"
   ]
  },
  {
   "cell_type": "code",
   "execution_count": null,
   "metadata": {
    "id": "sHGq9dydMld9"
   },
   "outputs": [],
   "source": [
    "from sklearn.preprocessing import StandardScaler\n",
    "sc = StandardScaler()\n",
    "X_train = sc.fit_transform(X_train)\n",
    "X_test = sc.transform(X_test)"
   ]
  },
  {
   "cell_type": "code",
   "execution_count": null,
   "metadata": {
    "id": "j0I-Pb-xO6OS"
   },
   "outputs": [],
   "source": [
    "model = Sequential()\n",
    "model.add(Dense(12, input_dim=10, activation='relu'))\n",
    "model.add(Dense(8, activation='relu'))\n",
    "model.add(Dense(1, activation='sigmoid'))"
   ]
  },
  {
   "cell_type": "code",
   "execution_count": null,
   "metadata": {
    "id": "SSIcdxX0P0dI"
   },
   "outputs": [],
   "source": [
    "model.compile(loss='binary_crossentropy', optimizer='adam', metrics=['accuracy'])"
   ]
  },
  {
   "cell_type": "code",
   "execution_count": null,
   "metadata": {
    "colab": {
     "base_uri": "https://localhost:8080/"
    },
    "id": "ynlHOKVlQB9U",
    "outputId": "ecb898d0-ba1e-42dd-d683-8731c0404a97"
   },
   "outputs": [
    {
     "name": "stdout",
     "output_type": "stream",
     "text": [
      "Epoch 1/60\n",
      "10/10 [==============================] - 1s 2ms/step - loss: 12.7946 - accuracy: 0.5347\n",
      "Epoch 2/60\n",
      "10/10 [==============================] - 0s 2ms/step - loss: 7.7118 - accuracy: 0.3168\n",
      "Epoch 3/60\n",
      "10/10 [==============================] - 0s 2ms/step - loss: 7.9707 - accuracy: 0.3432\n",
      "Epoch 4/60\n",
      "10/10 [==============================] - 0s 2ms/step - loss: 7.1420 - accuracy: 0.3333\n",
      "Epoch 5/60\n",
      "10/10 [==============================] - 0s 2ms/step - loss: 6.7728 - accuracy: 0.3498\n",
      "Epoch 6/60\n",
      "10/10 [==============================] - 0s 2ms/step - loss: 6.3729 - accuracy: 0.3399\n",
      "Epoch 7/60\n",
      "10/10 [==============================] - 0s 2ms/step - loss: 6.0516 - accuracy: 0.3267\n",
      "Epoch 8/60\n",
      "10/10 [==============================] - 0s 2ms/step - loss: 5.7373 - accuracy: 0.3333\n",
      "Epoch 9/60\n",
      "10/10 [==============================] - 0s 2ms/step - loss: 5.4280 - accuracy: 0.3399\n",
      "Epoch 10/60\n",
      "10/10 [==============================] - 0s 2ms/step - loss: 5.1813 - accuracy: 0.3432\n",
      "Epoch 11/60\n",
      "10/10 [==============================] - 0s 2ms/step - loss: 4.8289 - accuracy: 0.3333\n",
      "Epoch 12/60\n",
      "10/10 [==============================] - 0s 2ms/step - loss: 4.5973 - accuracy: 0.3663\n",
      "Epoch 13/60\n",
      "10/10 [==============================] - 0s 2ms/step - loss: 4.3148 - accuracy: 0.3465\n",
      "Epoch 14/60\n",
      "10/10 [==============================] - 0s 2ms/step - loss: 4.0666 - accuracy: 0.3366\n",
      "Epoch 15/60\n",
      "10/10 [==============================] - 0s 2ms/step - loss: 3.7630 - accuracy: 0.3531\n",
      "Epoch 16/60\n",
      "10/10 [==============================] - 0s 3ms/step - loss: 3.5112 - accuracy: 0.3630\n",
      "Epoch 17/60\n",
      "10/10 [==============================] - 0s 2ms/step - loss: 3.2896 - accuracy: 0.3696\n",
      "Epoch 18/60\n",
      "10/10 [==============================] - 0s 2ms/step - loss: 3.0815 - accuracy: 0.3696\n",
      "Epoch 19/60\n",
      "10/10 [==============================] - 0s 3ms/step - loss: 2.7845 - accuracy: 0.3696\n",
      "Epoch 20/60\n",
      "10/10 [==============================] - 0s 2ms/step - loss: 2.5925 - accuracy: 0.3696\n",
      "Epoch 21/60\n",
      "10/10 [==============================] - 0s 2ms/step - loss: 2.4016 - accuracy: 0.3828\n",
      "Epoch 22/60\n",
      "10/10 [==============================] - 0s 2ms/step - loss: 2.3831 - accuracy: 0.3432\n",
      "Epoch 23/60\n",
      "10/10 [==============================] - 0s 2ms/step - loss: 2.1454 - accuracy: 0.3894\n",
      "Epoch 24/60\n",
      "10/10 [==============================] - 0s 2ms/step - loss: 1.9258 - accuracy: 0.3960\n",
      "Epoch 25/60\n",
      "10/10 [==============================] - 0s 2ms/step - loss: 1.7983 - accuracy: 0.3993\n",
      "Epoch 26/60\n",
      "10/10 [==============================] - 0s 2ms/step - loss: 1.6897 - accuracy: 0.4125\n",
      "Epoch 27/60\n",
      "10/10 [==============================] - 0s 2ms/step - loss: 1.5490 - accuracy: 0.4026\n",
      "Epoch 28/60\n",
      "10/10 [==============================] - 0s 3ms/step - loss: 1.4427 - accuracy: 0.4191\n",
      "Epoch 29/60\n",
      "10/10 [==============================] - 0s 2ms/step - loss: 1.3594 - accuracy: 0.4257\n",
      "Epoch 30/60\n",
      "10/10 [==============================] - 0s 3ms/step - loss: 1.2510 - accuracy: 0.4323\n",
      "Epoch 31/60\n",
      "10/10 [==============================] - 0s 2ms/step - loss: 1.1887 - accuracy: 0.4488\n",
      "Epoch 32/60\n",
      "10/10 [==============================] - 0s 3ms/step - loss: 1.0999 - accuracy: 0.4521\n",
      "Epoch 33/60\n",
      "10/10 [==============================] - 0s 2ms/step - loss: 1.0103 - accuracy: 0.4719\n",
      "Epoch 34/60\n",
      "10/10 [==============================] - 0s 2ms/step - loss: 0.9547 - accuracy: 0.4818\n",
      "Epoch 35/60\n",
      "10/10 [==============================] - 0s 2ms/step - loss: 0.9131 - accuracy: 0.4851\n",
      "Epoch 36/60\n",
      "10/10 [==============================] - 0s 2ms/step - loss: 0.8412 - accuracy: 0.5314\n",
      "Epoch 37/60\n",
      "10/10 [==============================] - 0s 2ms/step - loss: 0.7934 - accuracy: 0.5479\n",
      "Epoch 38/60\n",
      "10/10 [==============================] - 0s 2ms/step - loss: 0.7507 - accuracy: 0.5611\n",
      "Epoch 39/60\n",
      "10/10 [==============================] - 0s 2ms/step - loss: 0.7075 - accuracy: 0.5776\n",
      "Epoch 40/60\n",
      "10/10 [==============================] - 0s 2ms/step - loss: 0.6740 - accuracy: 0.6073\n",
      "Epoch 41/60\n",
      "10/10 [==============================] - 0s 2ms/step - loss: 0.6534 - accuracy: 0.6106\n",
      "Epoch 42/60\n",
      "10/10 [==============================] - 0s 2ms/step - loss: 0.6600 - accuracy: 0.6205\n",
      "Epoch 43/60\n",
      "10/10 [==============================] - 0s 2ms/step - loss: 0.5948 - accuracy: 0.6733\n",
      "Epoch 44/60\n",
      "10/10 [==============================] - 0s 3ms/step - loss: 0.5896 - accuracy: 0.7063\n",
      "Epoch 45/60\n",
      "10/10 [==============================] - 0s 2ms/step - loss: 0.5784 - accuracy: 0.7096\n",
      "Epoch 46/60\n",
      "10/10 [==============================] - 0s 2ms/step - loss: 0.5804 - accuracy: 0.7063\n",
      "Epoch 47/60\n",
      "10/10 [==============================] - 0s 2ms/step - loss: 0.5540 - accuracy: 0.7360\n",
      "Epoch 48/60\n",
      "10/10 [==============================] - 0s 3ms/step - loss: 0.5658 - accuracy: 0.7063\n",
      "Epoch 49/60\n",
      "10/10 [==============================] - 0s 3ms/step - loss: 0.5354 - accuracy: 0.7657\n",
      "Epoch 50/60\n",
      "10/10 [==============================] - 0s 3ms/step - loss: 0.5310 - accuracy: 0.7492\n",
      "Epoch 51/60\n",
      "10/10 [==============================] - 0s 2ms/step - loss: 0.5235 - accuracy: 0.7591\n",
      "Epoch 52/60\n",
      "10/10 [==============================] - 0s 3ms/step - loss: 0.5308 - accuracy: 0.7459\n",
      "Epoch 53/60\n",
      "10/10 [==============================] - 0s 2ms/step - loss: 0.5216 - accuracy: 0.7459\n",
      "Epoch 54/60\n",
      "10/10 [==============================] - 0s 2ms/step - loss: 0.5272 - accuracy: 0.7426\n",
      "Epoch 55/60\n",
      "10/10 [==============================] - 0s 2ms/step - loss: 0.5346 - accuracy: 0.7360\n",
      "Epoch 56/60\n",
      "10/10 [==============================] - 0s 3ms/step - loss: 0.5335 - accuracy: 0.7525\n",
      "Epoch 57/60\n",
      "10/10 [==============================] - 0s 2ms/step - loss: 0.5248 - accuracy: 0.7492\n",
      "Epoch 58/60\n",
      "10/10 [==============================] - 0s 3ms/step - loss: 0.5138 - accuracy: 0.7690\n",
      "Epoch 59/60\n",
      "10/10 [==============================] - 0s 2ms/step - loss: 0.5080 - accuracy: 0.7624\n",
      "Epoch 60/60\n",
      "10/10 [==============================] - 0s 2ms/step - loss: 0.5105 - accuracy: 0.7624\n"
     ]
    }
   ],
   "source": [
    "history=model.fit(X, y, epochs=60, batch_size=32)"
   ]
  },
  {
   "cell_type": "code",
   "execution_count": null,
   "metadata": {
    "colab": {
     "base_uri": "https://localhost:8080/"
    },
    "id": "gNZ_c0FAR5Fd",
    "outputId": "2fa91553-aea5-40d0-8887-0be84432f431"
   },
   "outputs": [
    {
     "data": {
      "text/plain": [
       "dict_keys(['loss', 'accuracy'])"
      ]
     },
     "execution_count": 125,
     "metadata": {},
     "output_type": "execute_result"
    }
   ],
   "source": [
    "history.history.keys()"
   ]
  },
  {
   "cell_type": "code",
   "execution_count": null,
   "metadata": {
    "colab": {
     "base_uri": "https://localhost:8080/",
     "height": 295
    },
    "id": "vpNX2TcOSxk6",
    "outputId": "7fd972aa-1943-4856-d858-dec0244dcdb4"
   },
   "outputs": [
    {
     "data": {
      "image/png": "[encoded data removed]",
      "text/plain": [
       "<Figure size 432x288 with 1 Axes>"
      ]
     },
     "metadata": {
      "needs_background": "light"
     },
     "output_type": "display_data"
    }
   ],
   "source": [
    "import matplotlib.pyplot as plt\n",
    "plt.plot(history.history['accuracy'])\n",
    "plt.title('model accuracy')\n",
    "plt.ylabel('accuracy')\n",
    "plt.xlabel('epoch')\n",
    "plt.legend(['train'],loc='upper left')\n",
    "plt.show()"
   ]
  },
  {
   "cell_type": "code",
   "execution_count": null,
   "metadata": {
    "colab": {
     "base_uri": "https://localhost:8080/",
     "height": 295
    },
    "id": "Rr2SpQl7TAgj",
    "outputId": "d9e09eef-3dc4-4849-dd7f-6505eb001fba"
   },
   "outputs": [
    {
     "data": {
      "image/png": "[encoded data removed]",
      "text/plain": [
       "<Figure size 432x288 with 1 Axes>"
      ]
     },
     "metadata": {
      "needs_background": "light"
     },
     "output_type": "display_data"
    }
   ],
   "source": [
    "plt.plot(history.history['loss'])\n",
    "plt.title('model loss')\n",
    "plt.ylabel('accuracy')\n",
    "plt.xlabel('epoch')\n",
    "plt.legend(['train'],loc='upper left')\n",
    "plt.show()"
   ]
  },
  {
   "cell_type": "code",
   "execution_count": null,
   "metadata": {
    "colab": {
     "base_uri": "https://localhost:8080/"
    },
    "id": "GbH_VpKITcZH",
    "outputId": "3d331cf7-b1e1-4d47-99e7-e4b6b8fc512c"
   },
   "outputs": [
    {
     "name": "stdout",
     "output_type": "stream",
     "text": [
      "[145.0, 233.0, 1.0, 0.0, 150.0, 0.0, 2.3, 0.0, 0.0, 1.0] => 0 (expected 1)\n",
      "[130.0, 250.0, 0.0, 1.0, 187.0, 0.0, 3.5, 0.0, 0.0, 2.0] => 1 (expected 1)\n",
      "[130.0, 204.0, 0.0, 0.0, 172.0, 0.0, 1.4, 2.0, 0.0, 2.0] => 1 (expected 1)\n",
      "[120.0, 236.0, 0.0, 1.0, 178.0, 0.0, 0.8, 2.0, 0.0, 2.0] => 1 (expected 1)\n",
      "[120.0, 354.0, 0.0, 1.0, 163.0, 1.0, 0.6, 2.0, 0.0, 2.0] => 1 (expected 1)\n"
     ]
    }
   ],
   "source": [
    "predictions = (model.predict(X) > 0.5).astype(int)\n",
    "for i in range(5):\n",
    "\tprint('%s => %d (expected %d)' % (X[i].tolist(), predictions[i], y[i]))"
   ]
  },
  {
   "cell_type": "code",
   "execution_count": null,
   "metadata": {
    "colab": {
     "base_uri": "https://localhost:8080/"
    },
    "id": "LVGeI_qEQTNS",
    "outputId": "78fc59da-8a6e-4e1c-e461-0c552465cdc1"
   },
   "outputs": [
    {
     "name": "stdout",
     "output_type": "stream",
     "text": [
      "10/10 [==============================] - 0s 2ms/step - loss: 0.5067 - accuracy: 0.7657\n",
      "Accuracy: 76.57\n"
     ]
    }
   ],
   "source": [
    "_, accuracy = model.evaluate(X, y)\n",
    "print('Accuracy: %.2f' % (accuracy*100))"
   ]
  },
  {
   "cell_type": "code",
   "execution_count": null,
   "metadata": {
    "colab": {
     "base_uri": "https://localhost:8080/"
    },
    "id": "pwEDYWxmWkVF",
    "outputId": "9083f283-daf1-4da0-ddf8-0eac0b2db066"
   },
   "outputs": [
    {
     "name": "stdout",
     "output_type": "stream",
     "text": [
      "[[1 0]\n",
      " [1 1]\n",
      " [1 0]\n",
      " [1 0]\n",
      " [1 1]\n",
      " [1 0]\n",
      " [1 0]\n",
      " [1 0]\n",
      " [1 0]\n",
      " [0 0]\n",
      " [1 1]\n",
      " [1 1]\n",
      " [1 0]\n",
      " [1 1]\n",
      " [1 1]\n",
      " [1 1]\n",
      " [1 1]\n",
      " [1 1]\n",
      " [1 0]\n",
      " [1 1]\n",
      " [1 1]\n",
      " [1 0]\n",
      " [1 0]\n",
      " [1 0]\n",
      " [1 1]\n",
      " [1 0]\n",
      " [1 0]\n",
      " [1 0]\n",
      " [1 1]\n",
      " [1 1]\n",
      " [0 0]]\n"
     ]
    }
   ],
   "source": [
    "y_pred = model.predict(X_test)\n",
    "y_pred=(y_pred>0.5)\n",
    "print(np.concatenate((y_pred.reshape(len(y_pred),1), y_test.reshape(len(y_test),1)),1))"
   ]
  },
  {
   "cell_type": "code",
   "execution_count": null,
   "metadata": {
    "colab": {
     "base_uri": "https://localhost:8080/"
    },
    "id": "YVAnpMz3W2Dc",
    "outputId": "d4d3b742-f765-4deb-bf6f-df910cda29bf"
   },
   "outputs": [
    {
     "name": "stdout",
     "output_type": "stream",
     "text": [
      "[[ 2 15]\n",
      " [ 0 14]]\n"
     ]
    },
    {
     "data": {
      "text/plain": [
       "0.5161290322580645"
      ]
     },
     "execution_count": 131,
     "metadata": {},
     "output_type": "execute_result"
    }
   ],
   "source": [
    "from sklearn.metrics import confusion_matrix, accuracy_score\n",
    "cm = confusion_matrix(y_test, y_pred)\n",
    "print(cm)\n",
    "accuracy_score(y_test, y_pred)"
   ]
  },
  {
   "cell_type": "code",
   "execution_count": null,
   "metadata": {
    "colab": {
     "base_uri": "https://localhost:8080/"
    },
    "id": "Y2POY9mKXAhJ",
    "outputId": "7ca10b9a-0b57-4069-f4ae-bcedc595dbbe"
   },
   "outputs": [
    {
     "name": "stdout",
     "output_type": "stream",
     "text": [
      "True Positives: 14\n",
      "True Negatives: 2\n",
      "False Positives: 15\n",
      "False Negatives: 0\n",
      "--------------------------------------------------\n",
      "Accuracy: 0.52\n",
      "Mis-Classification: 0.48\n",
      "Sensitivity: 1.0\n",
      "Specificity: 0.12\n",
      "Precision: 0.12\n",
      "f_1 Score: 0.21\n"
     ]
    }
   ],
   "source": [
    "TP = cm[1][1]\n",
    "TN = cm[0][0]\n",
    "FP = cm[0][1]\n",
    "FN = cm[1][0]\n",
    "print('True Positives:', TP)\n",
    "print('True Negatives:', TN)\n",
    "print('False Positives:', FP)\n",
    "print('False Negatives:', FN)\n",
    "conf_accuracy = (float (TP+TN) / float(TP + TN + FP + FN))\n",
    "conf_misclassification = 1- conf_accuracy\n",
    "conf_sensitivity = (TP / float(TP + FN))\n",
    "conf_specificity = (TN / float(TN + FP))\n",
    "conf_precision = (TN / float(TN + FP))\n",
    "conf_f1 = 2 * ((conf_precision * conf_sensitivity) / (conf_precision + conf_sensitivity))\n",
    "print('-'*50)\n",
    "print(f'Accuracy: {round(conf_accuracy,2)}') \n",
    "print(f'Mis-Classification: {round(conf_misclassification,2)}') \n",
    "print(f'Sensitivity: {round(conf_sensitivity,2)}') \n",
    "print(f'Specificity: {round(conf_specificity,2)}') \n",
    "print(f'Precision: {round(conf_precision,2)}')\n",
    "print(f'f_1 Score: {round(conf_f1,2)}')"
   ]
  }
 ],
 "metadata": {
  "colab": {
   "provenance": []
  },
  "kernelspec": {
   "display_name": "Python 3",
   "name": "python3"
  },
  "language_info": {
   "name": "python"
  }
 },
 "nbformat": 4,
 "nbformat_minor": 0
}
